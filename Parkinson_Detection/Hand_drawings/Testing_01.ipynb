{
 "cells": [
  {
   "cell_type": "code",
   "execution_count": 6,
   "id": "108bc4b1",
   "metadata": {},
   "outputs": [],
   "source": [
    "from tensorflow.keras.models import load_model, model_from_json\n",
    "import matplotlib.pyplot as plt\n",
    "import tensorflow as tf\n",
    "import numpy as np\n",
    "import cv2\n",
    "import os\n",
    "\n",
    "plt.style.use('dark_background')"
   ]
  },
  {
   "cell_type": "code",
   "execution_count": 4,
   "id": "bec68b3c",
   "metadata": {},
   "outputs": [
    {
     "name": "stdout",
     "output_type": "stream",
     "text": [
      "model_structure.json model_weights.h5\r\n"
     ]
    }
   ],
   "source": [
    "! ls modelp"
   ]
  },
  {
   "cell_type": "code",
   "execution_count": 7,
   "id": "ab9f3314",
   "metadata": {},
   "outputs": [
    {
     "name": "stderr",
     "output_type": "stream",
     "text": [
      "2022-06-28 23:37:21.021802: I tensorflow/core/platform/cpu_feature_guard.cc:151] This TensorFlow binary is optimized with oneAPI Deep Neural Network Library (oneDNN) to use the following CPU instructions in performance-critical operations:  SSE4.1 SSE4.2\n",
      "To enable them in other operations, rebuild TensorFlow with the appropriate compiler flags.\n"
     ]
    }
   ],
   "source": [
    "json_file = open('modelp/model_structure.json','r')\n",
    "model_structure = json_file.read()\n",
    "json_file.close()\n",
    "\n",
    "model = model_from_json(model_structure)\n",
    "\n",
    "model.load_weights('modelp/model_weights.h5')"
   ]
  },
  {
   "cell_type": "code",
   "execution_count": 51,
   "id": "ea04cb0d",
   "metadata": {},
   "outputs": [
    {
     "name": "stdout",
     "output_type": "stream",
     "text": [
      "healthy_V01HE01_0_2830.jpg healthy_V09HE02_0_313.jpg\r\n",
      "healthy_V01HE01_0_4663.jpg healthy_V09HE02_0_5163.jpg\r\n",
      "healthy_V01HE01_0_4676.jpg healthy_V09HE02_0_6127.jpg\r\n",
      "healthy_V01HE01_0_6497.jpg healthy_V09HE02_0_6735.jpg\r\n",
      "healthy_V01HE01_0_8059.jpg healthy_V09HE02_0_8462.jpg\r\n",
      "healthy_V01HE01_0_8305.jpg healthy_V09HE03_0_1626.jpg\r\n",
      "healthy_V01HE01_0_9834.jpg healthy_V09HE03_0_3176.jpg\r\n",
      "healthy_V01HE02_0_1307.jpg healthy_V09HE03_0_3807.jpg\r\n",
      "healthy_V01HE02_0_2961.jpg healthy_V09HE03_0_5101.jpg\r\n",
      "healthy_V01HE02_0_3912.jpg healthy_V09HE03_0_5292.jpg\r\n",
      "healthy_V01HE02_0_4448.jpg healthy_V09HE03_0_5911.jpg\r\n",
      "healthy_V01HE02_0_5595.jpg healthy_V09HE03_0_6231.jpg\r\n",
      "healthy_V01HE02_0_5767.jpg healthy_V09HE03_0_6968.jpg\r\n",
      "healthy_V01HE02_0_6859.jpg healthy_V09HE03_0_7846.jpg\r\n",
      "healthy_V01HE02_0_744.jpg  healthy_V09HE03_0_7888.jpg\r\n",
      "healthy_V01HE02_0_751.jpg  healthy_V09HE03_0_8357.jpg\r\n",
      "healthy_V01HE02_0_7778.jpg healthy_V10HE01_0_2271.jpg\r\n",
      "healthy_V01HE02_0_8268.jpg healthy_V10HE01_0_4343.jpg\r\n",
      "healthy_V01HE02_0_8532.jpg healthy_V10HE01_0_5117.jpg\r\n",
      "healthy_V01HE02_0_8846.jpg healthy_V10HE01_0_6981.jpg\r\n",
      "healthy_V01HE02_0_9741.jpg healthy_V10HE01_0_7502.jpg\r\n",
      "healthy_V01HE03_0_1156.jpg healthy_V10HE01_0_819.jpg\r\n",
      "healthy_V01HE03_0_1343.jpg healthy_V10HE01_0_8951.jpg\r\n",
      "healthy_V01HE03_0_2725.jpg healthy_V10HE01_0_945.jpg\r\n",
      "healthy_V01HE03_0_306.jpg  healthy_V10HE01_0_9937.jpg\r\n",
      "healthy_V01HE03_0_3225.jpg healthy_V10HE02_0_188.jpg\r\n",
      "healthy_V01HE03_0_3388.jpg healthy_V10HE02_0_2265.jpg\r\n",
      "healthy_V01HE03_0_5904.jpg healthy_V10HE02_0_3607.jpg\r\n",
      "healthy_V01HE03_0_6406.jpg healthy_V10HE02_0_3634.jpg\r\n",
      "healthy_V01HE03_0_9536.jpg healthy_V10HE02_0_4181.jpg\r\n",
      "healthy_V02HE01_0_1182.jpg healthy_V10HE02_0_4952.jpg\r\n",
      "healthy_V02HE01_0_1947.jpg healthy_V10HE02_0_5858.jpg\r\n",
      "healthy_V02HE01_0_2647.jpg healthy_V10HE02_0_781.jpg\r\n",
      "healthy_V02HE01_0_4395.jpg healthy_V10HE02_0_836.jpg\r\n",
      "healthy_V02HE01_0_5290.jpg healthy_V10HE02_0_8426.jpg\r\n",
      "healthy_V02HE01_0_5522.jpg healthy_V10HE02_0_8589.jpg\r\n",
      "healthy_V02HE01_0_6214.jpg healthy_V10HE02_0_9048.jpg\r\n",
      "healthy_V02HE01_0_7137.jpg healthy_V10HE02_0_9480.jpg\r\n",
      "healthy_V02HE01_0_8166.jpg healthy_V10HE02_0_9843.jpg\r\n",
      "healthy_V02HE01_0_8763.jpg healthy_V10HE03_0_1850.jpg\r\n",
      "healthy_V02HE02_0_228.jpg  healthy_V10HE03_0_2793.jpg\r\n",
      "healthy_V02HE02_0_2903.jpg healthy_V10HE03_0_3497.jpg\r\n",
      "healthy_V02HE02_0_3228.jpg healthy_V10HE03_0_5191.jpg\r\n",
      "healthy_V02HE02_0_3231.jpg healthy_V10HE03_0_6084.jpg\r\n",
      "healthy_V02HE02_0_3423.jpg healthy_V10HE03_0_665.jpg\r\n",
      "healthy_V02HE02_0_4429.jpg healthy_V10HE03_0_8731.jpg\r\n",
      "healthy_V02HE02_0_4830.jpg healthy_V11HE01_0_1018.jpg\r\n",
      "healthy_V02HE02_0_5262.jpg healthy_V11HE01_0_1224.jpg\r\n",
      "healthy_V02HE02_0_605.jpg  healthy_V11HE01_0_3550.jpg\r\n",
      "healthy_V02HE02_0_6540.jpg healthy_V11HE01_0_4958.jpg\r\n",
      "healthy_V02HE02_0_6767.jpg healthy_V11HE01_0_6211.jpg\r\n",
      "healthy_V02HE02_0_8402.jpg healthy_V11HE01_0_8571.jpg\r\n",
      "healthy_V02HE02_0_8974.jpg healthy_V11HE02_0_2245.jpg\r\n",
      "healthy_V02HE03_0_3115.jpg healthy_V11HE02_0_2522.jpg\r\n",
      "healthy_V02HE03_0_3666.jpg healthy_V11HE02_0_2909.jpg\r\n",
      "healthy_V02HE03_0_7818.jpg healthy_V11HE02_0_3367.jpg\r\n",
      "healthy_V02HE03_0_9559.jpg healthy_V11HE02_0_3368.jpg\r\n",
      "healthy_V02HE03_0_9621.jpg healthy_V11HE02_0_4032.jpg\r\n",
      "healthy_V03HE1_0_2531.jpg  healthy_V11HE02_0_4347.jpg\r\n",
      "healthy_V03HE1_0_348.jpg   healthy_V11HE02_0_5270.jpg\r\n",
      "healthy_V03HE1_0_4961.jpg  healthy_V11HE02_0_6561.jpg\r\n",
      "healthy_V03HE1_0_5510.jpg  healthy_V11HE02_0_7658.jpg\r\n",
      "healthy_V03HE1_0_6225.jpg  healthy_V11HE02_0_7667.jpg\r\n",
      "healthy_V03HE1_0_9093.jpg  healthy_V11HE02_0_8622.jpg\r\n",
      "healthy_V03HE1_0_9934.jpg  healthy_V11HE03_0_1084.jpg\r\n",
      "healthy_V03HE2_0_2310.jpg  healthy_V11HE03_0_1261.jpg\r\n",
      "healthy_V03HE2_0_3000.jpg  healthy_V11HE03_0_1275.jpg\r\n",
      "healthy_V03HE2_0_3031.jpg  healthy_V11HE03_0_2811.jpg\r\n",
      "healthy_V03HE2_0_5442.jpg  healthy_V11HE03_0_2839.jpg\r\n",
      "healthy_V03HE2_0_6595.jpg  healthy_V11HE03_0_3701.jpg\r\n",
      "healthy_V03HE2_0_7876.jpg  healthy_V11HE03_0_6265.jpg\r\n",
      "healthy_V03HE2_0_8419.jpg  healthy_V11HE03_0_6338.jpg\r\n",
      "healthy_V03HE2_0_8574.jpg  healthy_V11HE03_0_708.jpg\r\n",
      "healthy_V03HE2_0_8600.jpg  healthy_V11HE03_0_7189.jpg\r\n",
      "healthy_V03HE2_0_8779.jpg  healthy_V11HE03_0_7571.jpg\r\n",
      "healthy_V03HE2_0_9077.jpg  healthy_V11HE03_0_7813.jpg\r\n",
      "healthy_V03HE3_0_1644.jpg  healthy_V11HE03_0_8495.jpg\r\n",
      "healthy_V03HE3_0_1900.jpg  healthy_V11HE03_0_9157.jpg\r\n",
      "healthy_V03HE3_0_5422.jpg  healthy_V12HE01_0_188.jpg\r\n",
      "healthy_V03HE3_0_5807.jpg  healthy_V12HE01_0_2407.jpg\r\n",
      "healthy_V03HE3_0_6253.jpg  healthy_V12HE01_0_409.jpg\r\n",
      "healthy_V03HE3_0_646.jpg   healthy_V12HE01_0_7200.jpg\r\n",
      "healthy_V03HE3_0_6640.jpg  healthy_V12HE01_0_9354.jpg\r\n",
      "healthy_V03HE3_0_6694.jpg  healthy_V12HE02_0_1865.jpg\r\n",
      "healthy_V03HE3_0_8111.jpg  healthy_V12HE02_0_3056.jpg\r\n",
      "healthy_V03HE3_0_9216.jpg  healthy_V12HE02_0_4841.jpg\r\n",
      "healthy_V04HE01_0_1201.jpg healthy_V12HE02_0_5550.jpg\r\n",
      "healthy_V04HE01_0_1385.jpg healthy_V12HE02_0_5591.jpg\r\n",
      "healthy_V04HE01_0_1390.jpg healthy_V12HE02_0_6476.jpg\r\n",
      "healthy_V04HE01_0_2252.jpg healthy_V12HE02_0_8276.jpg\r\n",
      "healthy_V04HE01_0_3005.jpg healthy_V12HE02_0_9789.jpg\r\n",
      "healthy_V04HE01_0_4438.jpg healthy_V12HE03_0_1144.jpg\r\n",
      "healthy_V04HE01_0_6552.jpg healthy_V12HE03_0_121.jpg\r\n",
      "healthy_V04HE01_0_6633.jpg healthy_V12HE03_0_3355.jpg\r\n",
      "healthy_V04HE01_0_7538.jpg healthy_V12HE03_0_3367.jpg\r\n",
      "healthy_V04HE02_0_2052.jpg healthy_V12HE03_0_4174.jpg\r\n",
      "healthy_V04HE02_0_2710.jpg healthy_V12HE03_0_4409.jpg\r\n",
      "healthy_V04HE02_0_2899.jpg healthy_V12HE03_0_4821.jpg\r\n",
      "healthy_V04HE02_0_3159.jpg healthy_V12HE03_0_6013.jpg\r\n",
      "healthy_V04HE02_0_3628.jpg healthy_V12HE03_0_6992.jpg\r\n",
      "healthy_V04HE02_0_8029.jpg healthy_V12HE03_0_7723.jpg\r\n",
      "healthy_V04HE02_0_9321.jpg healthy_V12HE03_0_8799.jpg\r\n",
      "healthy_V04HE03_0_1472.jpg healthy_V12HE03_0_9446.jpg\r\n",
      "healthy_V04HE03_0_2387.jpg healthy_V12HE03_0_9644.jpg\r\n",
      "healthy_V04HE03_0_2406.jpg healthy_V55HE01_0_1342.jpg\r\n",
      "healthy_V04HE03_0_2812.jpg healthy_V55HE01_0_311.jpg\r\n",
      "healthy_V04HE03_0_3072.jpg healthy_V55HE01_0_3836.jpg\r\n",
      "healthy_V04HE03_0_321.jpg  healthy_V55HE01_0_4762.jpg\r\n",
      "healthy_V04HE03_0_3476.jpg healthy_V55HE01_0_5092.jpg\r\n",
      "healthy_V04HE03_0_5818.jpg healthy_V55HE01_0_6029.jpg\r\n",
      "healthy_V04HE03_0_7435.jpg healthy_V55HE01_0_71.jpg\r\n",
      "healthy_V04HE03_0_9815.jpg healthy_V55HE01_0_7514.jpg\r\n",
      "healthy_V05HE01_0_2929.jpg healthy_V55HE01_0_8211.jpg\r\n",
      "healthy_V05HE01_0_4357.jpg healthy_V55HE01_0_9093.jpg\r\n",
      "healthy_V05HE01_0_4394.jpg healthy_V55HE02_0_103.jpg\r\n",
      "healthy_V05HE01_0_4401.jpg healthy_V55HE02_0_3393.jpg\r\n",
      "healthy_V05HE01_0_5093.jpg healthy_V55HE02_0_4204.jpg\r\n",
      "healthy_V05HE01_0_5333.jpg healthy_V55HE02_0_657.jpg\r\n",
      "healthy_V05HE01_0_6229.jpg healthy_V55HE02_0_6782.jpg\r\n",
      "healthy_V05HE01_0_6377.jpg healthy_V55HE02_0_871.jpg\r\n",
      "healthy_V05HE01_0_6941.jpg healthy_V55HE02_0_9076.jpg\r\n",
      "healthy_V05HE01_0_8561.jpg healthy_V55HE02_0_9133.jpg\r\n",
      "healthy_V05HE01_0_9244.jpg healthy_V55HE02_0_922.jpg\r\n",
      "healthy_V05HE01_0_9253.jpg healthy_V55HE02_0_9274.jpg\r\n",
      "healthy_V05HE01_0_9510.jpg healthy_V55HE02_0_9722.jpg\r\n",
      "healthy_V05HE02_0_1394.jpg healthy_V55HE03_0_2814.jpg\r\n",
      "healthy_V05HE02_0_3228.jpg healthy_V55HE03_0_3047.jpg\r\n",
      "healthy_V05HE02_0_6189.jpg healthy_V55HE03_0_7156.jpg\r\n",
      "healthy_V05HE02_0_7305.jpg healthy_V55HE03_0_7238.jpg\r\n",
      "healthy_V05HE02_0_7528.jpg healthy_V55HE03_0_7584.jpg\r\n",
      "healthy_V05HE02_0_7678.jpg healthy_V55HE03_0_7774.jpg\r\n",
      "healthy_V05HE02_0_8616.jpg healthy_V55HE04_0_1834.jpg\r\n",
      "healthy_V05HE02_0_8815.jpg healthy_V55HE04_0_2483.jpg\r\n",
      "healthy_V05HE02_0_8950.jpg healthy_V55HE04_0_3616.jpg\r\n",
      "healthy_V05HE02_0_8952.jpg healthy_V55HE04_0_4435.jpg\r\n",
      "healthy_V05HE03_0_134.jpg  healthy_V55HE04_0_4637.jpg\r\n",
      "healthy_V05HE03_0_2432.jpg healthy_V55HE04_0_6005.jpg\r\n",
      "healthy_V05HE03_0_2952.jpg healthy_V55HE04_0_6426.jpg\r\n",
      "healthy_V05HE03_0_5572.jpg healthy_V55HE04_0_7127.jpg\r\n",
      "healthy_V05HE03_0_6077.jpg healthy_V55HE04_0_7643.jpg\r\n",
      "healthy_V05HE03_0_6912.jpg healthy_V55HE05_0_196.jpg\r\n",
      "healthy_V05HE03_0_732.jpg  healthy_V55HE05_0_2622.jpg\r\n",
      "healthy_V05HE03_0_8107.jpg healthy_V55HE05_0_2821.jpg\r\n",
      "healthy_V05HE03_0_8684.jpg healthy_V55HE05_0_383.jpg\r\n",
      "healthy_V06HE01_0_1902.jpg healthy_V55HE05_0_4841.jpg\r\n",
      "healthy_V06HE01_0_195.jpg  healthy_V55HE05_0_6309.jpg\r\n",
      "healthy_V06HE01_0_4453.jpg healthy_V55HE05_0_6731.jpg\r\n",
      "healthy_V06HE01_0_4476.jpg healthy_V55HE05_0_7567.jpg\r\n",
      "healthy_V06HE01_0_5175.jpg healthy_V55HE05_0_9006.jpg\r\n",
      "healthy_V06HE01_0_8254.jpg healthy_V55HE05_0_9619.jpg\r\n",
      "healthy_V06HE01_0_8662.jpg healthy_V55HE06_0_1117.jpg\r\n",
      "healthy_V06HE01_0_9542.jpg healthy_V55HE06_0_2375.jpg\r\n",
      "healthy_V06HE01_0_9567.jpg healthy_V55HE06_0_2782.jpg\r\n",
      "healthy_V06HE02_0_1139.jpg healthy_V55HE06_0_3107.jpg\r\n",
      "healthy_V06HE02_0_1322.jpg healthy_V55HE06_0_3488.jpg\r\n",
      "healthy_V06HE02_0_2575.jpg healthy_V55HE06_0_377.jpg\r\n",
      "healthy_V06HE02_0_2802.jpg healthy_V55HE06_0_5585.jpg\r\n",
      "healthy_V06HE02_0_375.jpg  healthy_V55HE06_0_607.jpg\r\n",
      "healthy_V06HE02_0_389.jpg  healthy_V55HE06_0_6096.jpg\r\n",
      "healthy_V06HE02_0_4267.jpg healthy_V55HE06_0_6926.jpg\r\n",
      "healthy_V06HE02_0_6664.jpg healthy_V55HE06_0_7594.jpg\r\n",
      "healthy_V06HE02_0_7400.jpg healthy_V55HE07_0_2456.jpg\r\n",
      "healthy_V06HE02_0_8490.jpg healthy_V55HE07_0_3181.jpg\r\n",
      "healthy_V06HE02_0_8518.jpg healthy_V55HE07_0_5280.jpg\r\n",
      "healthy_V06HE02_0_966.jpg  healthy_V55HE07_0_642.jpg\r\n",
      "healthy_V06HE02_0_9971.jpg healthy_V55HE07_0_6619.jpg\r\n",
      "healthy_V06HE03_0_1207.jpg healthy_V55HE07_0_6747.jpg\r\n",
      "healthy_V06HE03_0_1544.jpg healthy_V55HE07_0_7667.jpg\r\n",
      "healthy_V06HE03_0_1786.jpg healthy_V55HE08_0_430.jpg\r\n",
      "healthy_V06HE03_0_1803.jpg healthy_V55HE08_0_5552.jpg\r\n",
      "healthy_V06HE03_0_1819.jpg healthy_V55HE08_0_6322.jpg\r\n",
      "healthy_V06HE03_0_2689.jpg healthy_V55HE08_0_6846.jpg\r\n",
      "healthy_V06HE03_0_2851.jpg healthy_V55HE08_0_7230.jpg\r\n",
      "healthy_V06HE03_0_4400.jpg healthy_V55HE08_0_8494.jpg\r\n",
      "healthy_V07HE01_0_204.jpg  healthy_V55HE08_0_9222.jpg\r\n",
      "healthy_V07HE01_0_4330.jpg healthy_V55HE08_0_9589.jpg\r\n",
      "healthy_V07HE01_0_5165.jpg healthy_V55HE08_0_986.jpg\r\n",
      "healthy_V07HE01_0_6903.jpg healthy_V55HE09_0_3158.jpg\r\n",
      "healthy_V07HE01_0_7620.jpg healthy_V55HE09_0_3803.jpg\r\n",
      "healthy_V07HE01_0_7741.jpg healthy_V55HE09_0_6022.jpg\r\n",
      "healthy_V07HE01_0_9963.jpg healthy_V55HE09_0_6619.jpg\r\n",
      "healthy_V07HE02_0_152.jpg  healthy_V55HE09_0_7046.jpg\r\n",
      "healthy_V07HE02_0_1643.jpg healthy_V55HE09_0_8184.jpg\r\n",
      "healthy_V07HE02_0_2000.jpg healthy_V55HE09_0_9678.jpg\r\n",
      "healthy_V07HE02_0_3878.jpg healthy_V55HE09_0_9919.jpg\r\n",
      "healthy_V07HE02_0_4103.jpg healthy_V55HE10_0_1164.jpg\r\n",
      "healthy_V07HE02_0_4247.jpg healthy_V55HE10_0_1945.jpg\r\n",
      "healthy_V07HE02_0_4897.jpg healthy_V55HE10_0_2689.jpg\r\n",
      "healthy_V07HE02_0_5037.jpg healthy_V55HE10_0_3378.jpg\r\n",
      "healthy_V07HE02_0_5367.jpg healthy_V55HE10_0_3420.jpg\r\n",
      "healthy_V07HE02_0_5774.jpg healthy_V55HE10_0_3437.jpg\r\n",
      "healthy_V07HE02_0_6068.jpg healthy_V55HE10_0_4011.jpg\r\n",
      "healthy_V07HE02_0_6071.jpg healthy_V55HE10_0_4020.jpg\r\n",
      "healthy_V07HE02_0_6135.jpg healthy_V55HE10_0_4989.jpg\r\n",
      "healthy_V07HE02_0_7177.jpg healthy_V55HE10_0_5739.jpg\r\n",
      "healthy_V07HE02_0_7568.jpg healthy_V55HE10_0_6230.jpg\r\n",
      "healthy_V07HE02_0_7968.jpg healthy_V55HE10_0_6771.jpg\r\n",
      "healthy_V07HE03_0_1018.jpg healthy_V55HE10_0_8427.jpg\r\n",
      "healthy_V07HE03_0_1232.jpg healthy_V55HE10_0_8586.jpg\r\n",
      "healthy_V07HE03_0_2471.jpg healthy_V55HE10_0_8977.jpg\r\n",
      "healthy_V07HE03_0_3824.jpg healthy_V55HE10_0_9060.jpg\r\n",
      "healthy_V07HE03_0_6141.jpg healthy_V55HE10_0_9706.jpg\r\n",
      "healthy_V07HE03_0_6616.jpg healthy_V55HE11_0_1336.jpg\r\n",
      "healthy_V07HE03_0_7076.jpg healthy_V55HE11_0_2236.jpg\r\n",
      "healthy_V07HE03_0_7440.jpg healthy_V55HE11_0_3706.jpg\r\n",
      "healthy_V07HE03_0_7904.jpg healthy_V55HE11_0_4915.jpg\r\n",
      "healthy_V07HE03_0_8804.jpg healthy_V55HE11_0_5203.jpg\r\n",
      "healthy_V07HE03_0_9057.jpg healthy_V55HE11_0_5798.jpg\r\n",
      "healthy_V08HE01_0_1131.jpg healthy_V55HE11_0_6245.jpg\r\n",
      "healthy_V08HE01_0_1520.jpg healthy_V55HE11_0_8675.jpg\r\n",
      "healthy_V08HE01_0_2347.jpg healthy_V55HE11_0_9175.jpg\r\n",
      "healthy_V08HE01_0_2620.jpg healthy_V55HE11_0_9598.jpg\r\n",
      "healthy_V08HE01_0_5357.jpg healthy_V55HE12_0_2587.jpg\r\n",
      "healthy_V08HE01_0_5426.jpg healthy_V55HE12_0_2792.jpg\r\n",
      "healthy_V08HE01_0_7799.jpg healthy_V55HE12_0_3132.jpg\r\n",
      "healthy_V08HE01_0_8074.jpg healthy_V55HE12_0_3854.jpg\r\n",
      "healthy_V08HE01_0_8128.jpg healthy_V55HE12_0_412.jpg\r\n",
      "healthy_V08HE01_0_8466.jpg healthy_V55HE12_0_5145.jpg\r\n",
      "healthy_V08HE01_0_9778.jpg healthy_V55HE12_0_570.jpg\r\n",
      "healthy_V08HE02_0_1324.jpg healthy_V55HE12_0_572.jpg\r\n",
      "healthy_V08HE02_0_462.jpg  healthy_V55HE12_0_5795.jpg\r\n",
      "healthy_V08HE02_0_489.jpg  healthy_V55HE12_0_7036.jpg\r\n",
      "healthy_V08HE02_0_51.jpg   healthy_V55HE12_0_7038.jpg\r\n",
      "healthy_V08HE02_0_5221.jpg healthy_V55HE12_0_8701.jpg\r\n",
      "healthy_V08HE02_0_7178.jpg healthy_V55HE13_0_2082.jpg\r\n",
      "healthy_V08HE02_0_8091.jpg healthy_V55HE13_0_3.jpg\r\n",
      "healthy_V08HE02_0_9141.jpg healthy_V55HE13_0_3152.jpg\r\n",
      "healthy_V08HE02_0_9952.jpg healthy_V55HE13_0_3609.jpg\r\n",
      "healthy_V08HE03_0_172.jpg  healthy_V55HE13_0_4415.jpg\r\n",
      "healthy_V08HE03_0_2049.jpg healthy_V55HE13_0_5085.jpg\r\n",
      "healthy_V08HE03_0_382.jpg  healthy_V55HE13_0_5671.jpg\r\n",
      "healthy_V08HE03_0_4224.jpg healthy_V55HE13_0_7487.jpg\r\n",
      "healthy_V08HE03_0_4362.jpg healthy_V55HE13_0_8172.jpg\r\n",
      "healthy_V08HE03_0_4740.jpg healthy_V55HE13_0_896.jpg\r\n",
      "healthy_V08HE03_0_4794.jpg healthy_V55HE13_0_9897.jpg\r\n",
      "healthy_V08HE03_0_5877.jpg healthy_V55HE14_0_2835.jpg\r\n",
      "healthy_V08HE03_0_7114.jpg healthy_V55HE14_0_4705.jpg\r\n",
      "healthy_V08HE03_0_7293.jpg healthy_V55HE14_0_5022.jpg\r\n",
      "healthy_V08HE03_0_7507.jpg healthy_V55HE14_0_6264.jpg\r\n",
      "healthy_V08HE03_0_8360.jpg healthy_V55HE14_0_6294.jpg\r\n",
      "healthy_V08HE03_0_9890.jpg healthy_V55HE14_0_7001.jpg\r\n",
      "healthy_V09HE01_0_2170.jpg healthy_V55HE14_0_8512.jpg\r\n",
      "healthy_V09HE01_0_2615.jpg healthy_V55HE14_0_9182.jpg\r\n",
      "healthy_V09HE01_0_5568.jpg healthy_V55HE15_0_2061.jpg\r\n",
      "healthy_V09HE01_0_5605.jpg healthy_V55HE15_0_2512.jpg\r\n",
      "healthy_V09HE01_0_6085.jpg healthy_V55HE15_0_3172.jpg\r\n",
      "healthy_V09HE01_0_6705.jpg healthy_V55HE15_0_7090.jpg\r\n",
      "healthy_V09HE01_0_6856.jpg healthy_V55HE15_0_7251.jpg\r\n",
      "healthy_V09HE01_0_7791.jpg healthy_V55HE15_0_7494.jpg\r\n",
      "healthy_V09HE01_0_8530.jpg healthy_V55HE15_0_8379.jpg\r\n"
     ]
    }
   ],
   "source": [
    "!ls spiral_processed/test/healthy"
   ]
  },
  {
   "cell_type": "code",
   "execution_count": 84,
   "id": "9b843b4f",
   "metadata": {},
   "outputs": [
    {
     "data": {
      "image/png": "[encoded data removed]",
      "text/plain": [
       "<Figure size 432x288 with 1 Axes>"
      ]
     },
     "metadata": {
      "needs_background": "dark"
     },
     "output_type": "display_data"
    },
    {
     "name": "stdout",
     "output_type": "stream",
     "text": [
      "/Users/mahimairaja/DESKT/Desktop/GAIP-Learnings/GIT/Projects/Parkinson_Detection/Hand_drawings/spiral_processed/test/healthy/healthy_V01HE01_0_2830.jpg\n"
     ]
    }
   ],
   "source": [
    "cur_dir = os.getcwd()\n",
    "img_path = os.path.join(cur_dir,'spiral_processed/test/healthy/healthy_V01HE01_0_2830.jpg')\n",
    "\n",
    "img = cv2.imread(img_path)\n",
    "\n",
    "plt.imshow(img)\n",
    "plt.show()\n",
    "\n",
    "print(img_path)"
   ]
  },
  {
   "cell_type": "code",
   "execution_count": 85,
   "id": "3a4fe219",
   "metadata": {},
   "outputs": [
    {
     "data": {
      "image/png": "[encoded data removed]",
      "text/plain": [
       "<Figure size 432x288 with 1 Axes>"
      ]
     },
     "metadata": {
      "needs_background": "dark"
     },
     "output_type": "display_data"
    }
   ],
   "source": [
    "resize = tf.image.resize(img, (256,256))\n",
    "plt.imshow(resize.numpy().astype(int))\n",
    "plt.show()"
   ]
  },
  {
   "cell_type": "code",
   "execution_count": 86,
   "id": "35fa4ef7",
   "metadata": {},
   "outputs": [
    {
     "name": "stdout",
     "output_type": "stream",
     "text": [
      "[[0.39046997]]\n"
     ]
    }
   ],
   "source": [
    "prediction = model.predict(np.expand_dims(resize/255, 0))\n",
    "\n",
    "print(prediction)"
   ]
  },
  {
   "cell_type": "code",
   "execution_count": 87,
   "id": "c19b6180",
   "metadata": {},
   "outputs": [
    {
     "name": "stdout",
     "output_type": "stream",
     "text": [
      "The person is Healthy\n"
     ]
    }
   ],
   "source": [
    "if prediction < 0.5: \n",
    "    print(f'The person is Healthy')\n",
    "else:\n",
    "    print(f'The person may have parkinson')"
   ]
  }
 ],
 "metadata": {
  "kernelspec": {
   "display_name": "Python 3 (ipykernel)",
   "language": "python",
   "name": "python3"
  },
  "language_info": {
   "codemirror_mode": {
    "name": "ipython",
    "version": 3
   },
   "file_extension": ".py",
   "mimetype": "text/x-python",
   "name": "python",
   "nbconvert_exporter": "python",
   "pygments_lexer": "ipython3",
   "version": "3.10.5"
  }
 },
 "nbformat": 4,
 "nbformat_minor": 5
}
